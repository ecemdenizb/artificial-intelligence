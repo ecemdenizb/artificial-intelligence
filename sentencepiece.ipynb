{
  "nbformat": 4,
  "nbformat_minor": 0,
  "metadata": {
    "colab": {
      "name": "sentencepiece.ipynb",
      "private_outputs": true,
      "provenance": []
    },
    "kernelspec": {
      "name": "python3",
      "display_name": "Python 3"
    }
  },
  "cells": [
    {
      "cell_type": "code",
      "metadata": {
        "id": "AP0wjN-XISiC"
      },
      "source": [
        "!pip install sentencepiece"
      ],
      "execution_count": null,
      "outputs": []
    },
    {
      "cell_type": "code",
      "metadata": {
        "id": "OI4rdjGNI8a1"
      },
      "source": [
        "import sentencepiece as spm"
      ],
      "execution_count": null,
      "outputs": []
    },
    {
      "cell_type": "code",
      "metadata": {
        "id": "raqyGuhmJL0k"
      },
      "source": [
        "max_tokens = 5000"
      ],
      "execution_count": null,
      "outputs": []
    },
    {
      "cell_type": "code",
      "metadata": {
        "id": "J1Di2vTyKMqZ"
      },
      "source": [
        "!wget https://www.dropbox.com/s/zixgykc93s32bf7/hurriyet.txt?dl=1 -O hurriyet.txt"
      ],
      "execution_count": null,
      "outputs": []
    },
    {
      "cell_type": "code",
      "metadata": {
        "id": "rjA1-RucKbzp"
      },
      "source": [
        "!head hurriyet.txt"
      ],
      "execution_count": null,
      "outputs": []
    },
    {
      "cell_type": "code",
      "metadata": {
        "id": "oInpXB5MKgHR"
      },
      "source": [
        "spm.SentencePieceTrainer.Train(f'--input=hurriyet.txt --model_prefix=hurriyet_{max_tokens} --vocab_size={max_tokens}')"
      ],
      "execution_count": null,
      "outputs": []
    },
    {
      "cell_type": "code",
      "metadata": {
        "id": "L5BTYNHrMVol"
      },
      "source": [
        "!ls"
      ],
      "execution_count": null,
      "outputs": []
    },
    {
      "cell_type": "code",
      "metadata": {
        "id": "oQMph_pvNPrG"
      },
      "source": [
        "tokenizer = spm.SentencePieceProcessor()\r\n",
        "tokenizer.Load(f'hurriyet_{max_tokens}.model')"
      ],
      "execution_count": null,
      "outputs": []
    },
    {
      "cell_type": "code",
      "metadata": {
        "id": "GvL80ct0OVSr"
      },
      "source": [
        "input = \"izmir'in dağlarında çiçekler açar\"\r\n",
        "tokens = tokenizer.EncodeAsPieces(input)\r\n",
        "tokens"
      ],
      "execution_count": null,
      "outputs": []
    },
    {
      "cell_type": "code",
      "metadata": {
        "id": "J4JA7G8vOzrT"
      },
      "source": [
        "ids = tokenizer.EncodeAsIds(input)\r\n",
        "ids"
      ],
      "execution_count": null,
      "outputs": []
    },
    {
      "cell_type": "code",
      "metadata": {
        "id": "AMpBS0crPhDD"
      },
      "source": [
        "decoded_ids = tokenizer.DecodeIds(ids)\r\n",
        "decoded_ids"
      ],
      "execution_count": null,
      "outputs": []
    }
  ]
}