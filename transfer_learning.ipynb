{
  "nbformat": 4,
  "nbformat_minor": 0,
  "metadata": {
    "colab": {
      "name": "transfer-learning.ipynb",
      "private_outputs": true,
      "provenance": [],
      "collapsed_sections": []
    },
    "kernelspec": {
      "name": "python3",
      "display_name": "Python 3"
    },
    "accelerator": "GPU"
  },
  "cells": [
    {
      "cell_type": "code",
      "metadata": {
        "id": "y6yWx_6usKWb"
      },
      "source": [
        "import tensorflow as tf\n",
        "import os"
      ],
      "execution_count": null,
      "outputs": []
    },
    {
      "cell_type": "code",
      "metadata": {
        "id": "2PH0ivXhubBl"
      },
      "source": [
        "_URL = 'https://storage.googleapis.com/mledu-datasets/cats_and_dogs_filtered.zip'\n",
        "path_to_zip = tf.keras.utils.get_file('cats_and_dogs.zip', origin=_URL, extract=True)\n",
        "PATH = os.path.join(os.path.dirname(path_to_zip), 'cats_and_dogs_filtered')\n",
        "\n",
        "train_dir = os.path.join(PATH, 'train')\n",
        "validation_dir = os.path.join(PATH, 'validation')\n",
        "\n",
        "BATCH_SIZE = 32\n",
        "IMG_SIZE = (160, 160)\n",
        "\n",
        "train_dataset = tf.keras.preprocessing.image_dataset_from_directory(train_dir,\n",
        "                                             shuffle=True,\n",
        "                                             batch_size=BATCH_SIZE,\n",
        "                                             image_size=IMG_SIZE)"
      ],
      "execution_count": null,
      "outputs": []
    },
    {
      "cell_type": "code",
      "metadata": {
        "id": "tvbNgrBYxWL2"
      },
      "source": [
        "train_dataset.class_names"
      ],
      "execution_count": null,
      "outputs": []
    },
    {
      "cell_type": "code",
      "metadata": {
        "id": "jVRVAmYxxnTN"
      },
      "source": [
        "validation_dataset = tf.keras.preprocessing.image_dataset_from_directory(validation_dir, shuffle=False, batch_size=BATCH_SIZE, image_size=IMG_SIZE)"
      ],
      "execution_count": null,
      "outputs": []
    },
    {
      "cell_type": "code",
      "metadata": {
        "id": "aMVoqTpRyDFV"
      },
      "source": [
        "AUTOTUNE = tf.data.AUTOTUNE\n",
        "train_dataset = train_dataset.prefetch(AUTOTUNE)\n",
        "validation_dataset = validation_dataset.prefetch(AUTOTUNE)"
      ],
      "execution_count": null,
      "outputs": []
    },
    {
      "cell_type": "code",
      "metadata": {
        "id": "IgSjUEpAyurF"
      },
      "source": [
        "data_augmentation = tf.keras.Sequential([\n",
        "                                         tf.keras.layers.experimental.preprocessing.RandomFlip('horizontal'),\n",
        "                                         tf.keras.layers.experimental.preprocessing.RandomRotation(0.2),\n",
        "])"
      ],
      "execution_count": null,
      "outputs": []
    },
    {
      "cell_type": "code",
      "metadata": {
        "id": "Z1Hwo6zszxVn"
      },
      "source": [
        "preprocess_input = tf.keras.applications.mobilenet_v2.preprocess_input"
      ],
      "execution_count": null,
      "outputs": []
    },
    {
      "cell_type": "code",
      "metadata": {
        "id": "9OBqoZfR2Dqm"
      },
      "source": [
        "input_shape = IMG_SIZE + (3,)\n",
        "base_model = tf.keras.applications.MobileNetV2(input_shape=input_shape, include_top=False, weights='imagenet')\n",
        "base_model.summary()"
      ],
      "execution_count": null,
      "outputs": []
    },
    {
      "cell_type": "code",
      "metadata": {
        "id": "NlHpPuHU3ANL"
      },
      "source": [
        "base_model.trainable = False\n",
        "base_model.summary()"
      ],
      "execution_count": null,
      "outputs": []
    },
    {
      "cell_type": "code",
      "metadata": {
        "id": "qTt1xxbq3afS"
      },
      "source": [
        "global_average = tf.keras.layers.GlobalAveragePooling2D()"
      ],
      "execution_count": null,
      "outputs": []
    },
    {
      "cell_type": "code",
      "metadata": {
        "id": "lreNkRZK4HS0"
      },
      "source": [
        "inputs, labels = next(iter(train_dataset))\n",
        "batched_features = base_model(inputs)\n",
        "batched_features.shape"
      ],
      "execution_count": null,
      "outputs": []
    },
    {
      "cell_type": "code",
      "metadata": {
        "id": "kdBISulT4Sze"
      },
      "source": [
        "averaged = global_average(batched_features)\n",
        "averaged.shape"
      ],
      "execution_count": null,
      "outputs": []
    },
    {
      "cell_type": "code",
      "metadata": {
        "id": "yMkoEwOG5UJJ"
      },
      "source": [
        "classification_layer = tf.keras.layers.Dense(1)\n",
        "predictions = classification_layer(averaged)\n",
        "predictions.shape"
      ],
      "execution_count": null,
      "outputs": []
    },
    {
      "cell_type": "code",
      "metadata": {
        "id": "BelPUmc656Bf"
      },
      "source": [
        "inputs = tf.keras.Input(input_shape)\n",
        "x = data_augmentation(inputs)\n",
        "x = preprocess_input(x)\n",
        "x = base_model(x, training=False)\n",
        "x = global_average(x)\n",
        "x = tf.keras.layers.Dropout(0.2)(x)\n",
        "outputs = classification_layer(x)\n",
        "full_model = tf.keras.models.Model(inputs, outputs)\n",
        "full_model.summary()"
      ],
      "execution_count": null,
      "outputs": []
    },
    {
      "cell_type": "code",
      "metadata": {
        "id": "Tl0_FlCt7OMS"
      },
      "source": [
        "lr = 0.0001\n",
        "full_model.compile(tf.keras.optimizers.Adam(lr),\n",
        "                   loss=tf.keras.losses.BinaryCrossentropy(from_logits=True), metrics=['accuracy'])\n"
      ],
      "execution_count": null,
      "outputs": []
    },
    {
      "cell_type": "code",
      "metadata": {
        "id": "2Gv41w-w81UP"
      },
      "source": [
        "full_model.evaluate(validation_dataset)"
      ],
      "execution_count": null,
      "outputs": []
    },
    {
      "cell_type": "code",
      "metadata": {
        "id": "_ZbIR_DT9Jig"
      },
      "source": [
        "initial_epochs = 10\n",
        "full_model.fit(train_dataset, epochs=initial_epochs, validation_data=validation_dataset)"
      ],
      "execution_count": null,
      "outputs": []
    },
    {
      "cell_type": "code",
      "metadata": {
        "id": "9TvgltXy99QU"
      },
      "source": [
        "base_model.trainable = True"
      ],
      "execution_count": null,
      "outputs": []
    },
    {
      "cell_type": "code",
      "metadata": {
        "id": "zh-t_B-3NvQx"
      },
      "source": [
        "len(base_model.layers)"
      ],
      "execution_count": null,
      "outputs": []
    },
    {
      "cell_type": "code",
      "metadata": {
        "id": "4A_l4fNpN12L"
      },
      "source": [
        "for layer in base_model.layers[:100]:\n",
        "  layer.trainable = False\n",
        "  "
      ],
      "execution_count": null,
      "outputs": []
    },
    {
      "cell_type": "code",
      "metadata": {
        "id": "BXuMczmiONPG"
      },
      "source": [
        "full_model.summary()"
      ],
      "execution_count": null,
      "outputs": []
    },
    {
      "cell_type": "code",
      "metadata": {
        "id": "5gKAiuTPOep5"
      },
      "source": [
        "full_model.compile(loss=tf.keras.losses.BinaryCrossentropy(from_logits=True),\n",
        "                   optimizer=tf.keras.optimizers.RMSprop(lr / 10), metrics=['accuracy'])"
      ],
      "execution_count": null,
      "outputs": []
    },
    {
      "cell_type": "code",
      "metadata": {
        "id": "oMMF2F9dPEOA"
      },
      "source": [
        "total_epochs = initial_epochs + 10\n",
        "full_model.fit(train_dataset, epochs=total_epochs, initial_epoch=initial_epochs, validation_data=validation_dataset)"
      ],
      "execution_count": null,
      "outputs": []
    },
    {
      "cell_type": "code",
      "metadata": {
        "id": "wEu603IrP4IN"
      },
      "source": [
        ""
      ],
      "execution_count": null,
      "outputs": []
    }
  ]
}