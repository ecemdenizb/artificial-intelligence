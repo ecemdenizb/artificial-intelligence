{
  "nbformat": 4,
  "nbformat_minor": 0,
  "metadata": {
    "colab": {
      "name": "malaria-detecting.ipynb",
      "provenance": [],
      "collapsed_sections": [],
      "authorship_tag": "ABX9TyPGI1VSO1ASgrbh9qviZiLC",
      "include_colab_link": true
    },
    "kernelspec": {
      "name": "python3",
      "display_name": "Python 3"
    },
    "accelerator": "GPU"
  },
  "cells": [
    {
      "cell_type": "markdown",
      "metadata": {
        "id": "view-in-github",
        "colab_type": "text"
      },
      "source": [
        "<a href=\"https://colab.research.google.com/github/ecemdenizb/machine-learning/blob/main/malaria_detecting.ipynb\" target=\"_parent\"><img src=\"https://colab.research.google.com/assets/colab-badge.svg\" alt=\"Open In Colab\"/></a>"
      ]
    },
    {
      "cell_type": "code",
      "metadata": {
        "id": "hC-zopWbddDl"
      },
      "source": [
        "import tensorflow as tf\r\n",
        "import tensorflow_datasets as tfds\r\n"
      ],
      "execution_count": 20,
      "outputs": []
    },
    {
      "cell_type": "code",
      "metadata": {
        "id": "lHPTdM5eemvC"
      },
      "source": [
        "(train_ds,validation_dataset), metadata = tfds.load('malaria', as_supervised=True, with_info=True, split= ['train[:80%]','train[80%:]'])"
      ],
      "execution_count": 21,
      "outputs": []
    },
    {
      "cell_type": "code",
      "metadata": {
        "id": "-RoqBRzh4Av2"
      },
      "source": [
        "IMG_SIZE=(160,160)"
      ],
      "execution_count": 22,
      "outputs": []
    },
    {
      "cell_type": "code",
      "metadata": {
        "id": "BeP5d4odv8vV"
      },
      "source": [
        "def resize(img, label):\r\n",
        "  return tf.image.resize(img, IMG_SIZE), label\r\n",
        "train_ds = train_ds.map(resize)\r\n",
        "validation_dataset=validation_dataset.map(resize)\r\n",
        "train_ds = train_ds.shuffle(2048)\r\n",
        "validation_dataset=validation_dataset.batch(128)\r\n",
        "train_ds = train_ds.batch(128)"
      ],
      "execution_count": 23,
      "outputs": []
    },
    {
      "cell_type": "code",
      "metadata": {
        "id": "VMnyzRq_vbaK"
      },
      "source": [
        "from tensorflow import keras\r\n",
        "from tensorflow.keras.models import Sequential\r\n",
        "from tensorflow.keras.layers import Dense, Conv2D, MaxPool2D , Flatten, GlobalAveragePooling2D, Dropout\r\n",
        "import numpy as np"
      ],
      "execution_count": 24,
      "outputs": []
    },
    {
      "cell_type": "code",
      "metadata": {
        "id": "RF9XwMsNemkw"
      },
      "source": [
        "model = Sequential()\r\n",
        "model.add(Conv2D(input_shape=(160,160,3),filters=128,kernel_size=(3,3),padding=\"same\", activation=\"relu\"))\r\n",
        "model.add(MaxPool2D(pool_size=(2,2),strides=(2,2)))\r\n",
        "model.add(Conv2D(filters=64, kernel_size=(3,3), padding=\"same\", activation=\"relu\"))\r\n",
        "model.add(MaxPool2D(pool_size=(2,2),strides=(2,2)))\r\n",
        "model.add(Conv2D(filters=32, kernel_size=(3,3), padding=\"same\", activation=\"relu\"))\r\n",
        "model.add(MaxPool2D(pool_size=(2,2),strides=(2,2)))\r\n",
        "model.add(Conv2D(filters=64, kernel_size=(3,3), padding=\"same\", activation=\"relu\"))\r\n",
        "model.add(MaxPool2D(pool_size=(2,2),strides=(2,2)))\r\n",
        "model.add(Conv2D(filters=128, kernel_size=(3,3), padding=\"same\", activation=\"relu\"))\r\n",
        "model.add(MaxPool2D(pool_size=(2,2),strides=(2,2)))\r\n",
        "model.add(Conv2D(filters=256, kernel_size=(3,3), padding=\"same\", activation=\"relu\"))\r\n",
        "model.add(MaxPool2D(pool_size=(2,2),strides=(2,2)))\r\n",
        "model.add(Conv2D(filters=512, kernel_size=(3,3), padding=\"same\", activation=\"relu\"))\r\n",
        "model.add(MaxPool2D(pool_size=(2,2),strides=(2,2)))\r\n",
        "model.add(GlobalAveragePooling2D())\r\n",
        "model.add(Dense(units=128,activation=\"relu\"))\r\n",
        "model.add(Dropout(0.25))\r\n",
        "model.add(Dense(units=64,activation=\"relu\"))\r\n",
        "model.add(Dropout(0.5))\r\n",
        "model.add(Dense(units=1))"
      ],
      "execution_count": 25,
      "outputs": []
    },
    {
      "cell_type": "code",
      "metadata": {
        "id": "cNfnXG7UemgB"
      },
      "source": [
        "from keras.optimizers import RMSprop\r\n",
        "opt = RMSprop(lr=0.0001)\r\n",
        "model.compile(optimizer=opt, loss=tf.keras.losses.BinaryCrossentropy(from_logits=True), metrics=['accuracy'])"
      ],
      "execution_count": 26,
      "outputs": []
    },
    {
      "cell_type": "code",
      "metadata": {
        "id": "_o-K3wZqUH4C",
        "colab": {
          "base_uri": "https://localhost:8080/"
        },
        "outputId": "965d8e66-babc-4ed3-d14a-734aea2d0fcc"
      },
      "source": [
        "model.summary()"
      ],
      "execution_count": 27,
      "outputs": [
        {
          "output_type": "stream",
          "text": [
            "Model: \"sequential_3\"\n",
            "_________________________________________________________________\n",
            "Layer (type)                 Output Shape              Param #   \n",
            "=================================================================\n",
            "conv2d_27 (Conv2D)           (None, 160, 160, 128)     3584      \n",
            "_________________________________________________________________\n",
            "max_pooling2d_15 (MaxPooling (None, 80, 80, 128)       0         \n",
            "_________________________________________________________________\n",
            "conv2d_28 (Conv2D)           (None, 80, 80, 64)        73792     \n",
            "_________________________________________________________________\n",
            "max_pooling2d_16 (MaxPooling (None, 40, 40, 64)        0         \n",
            "_________________________________________________________________\n",
            "conv2d_29 (Conv2D)           (None, 40, 40, 32)        18464     \n",
            "_________________________________________________________________\n",
            "max_pooling2d_17 (MaxPooling (None, 20, 20, 32)        0         \n",
            "_________________________________________________________________\n",
            "conv2d_30 (Conv2D)           (None, 20, 20, 64)        18496     \n",
            "_________________________________________________________________\n",
            "max_pooling2d_18 (MaxPooling (None, 10, 10, 64)        0         \n",
            "_________________________________________________________________\n",
            "conv2d_31 (Conv2D)           (None, 10, 10, 128)       73856     \n",
            "_________________________________________________________________\n",
            "max_pooling2d_19 (MaxPooling (None, 5, 5, 128)         0         \n",
            "_________________________________________________________________\n",
            "conv2d_32 (Conv2D)           (None, 5, 5, 256)         295168    \n",
            "_________________________________________________________________\n",
            "max_pooling2d_20 (MaxPooling (None, 2, 2, 256)         0         \n",
            "_________________________________________________________________\n",
            "conv2d_33 (Conv2D)           (None, 2, 2, 512)         1180160   \n",
            "_________________________________________________________________\n",
            "max_pooling2d_21 (MaxPooling (None, 1, 1, 512)         0         \n",
            "_________________________________________________________________\n",
            "global_average_pooling2d_2 ( (None, 512)               0         \n",
            "_________________________________________________________________\n",
            "dense_4 (Dense)              (None, 128)               65664     \n",
            "_________________________________________________________________\n",
            "dropout_2 (Dropout)          (None, 128)               0         \n",
            "_________________________________________________________________\n",
            "dense_5 (Dense)              (None, 64)                8256      \n",
            "_________________________________________________________________\n",
            "dropout_3 (Dropout)          (None, 64)                0         \n",
            "_________________________________________________________________\n",
            "dense_6 (Dense)              (None, 1)                 65        \n",
            "=================================================================\n",
            "Total params: 1,737,505\n",
            "Trainable params: 1,737,505\n",
            "Non-trainable params: 0\n",
            "_________________________________________________________________\n"
          ],
          "name": "stdout"
        }
      ]
    },
    {
      "cell_type": "code",
      "metadata": {
        "id": "9JH3bACpemdI",
        "colab": {
          "base_uri": "https://localhost:8080/"
        },
        "outputId": "bf8102b8-7b2a-4662-abce-33e75a3945e5"
      },
      "source": [
        "model.fit(train_ds, epochs=10, validation_data=validation_dataset)"
      ],
      "execution_count": 28,
      "outputs": [
        {
          "output_type": "stream",
          "text": [
            "Epoch 1/10\n",
            "173/173 [==============================] - 56s 303ms/step - loss: 0.7384 - accuracy: 0.5432 - val_loss: 0.3078 - val_accuracy: 0.8828\n",
            "Epoch 2/10\n",
            "173/173 [==============================] - 53s 298ms/step - loss: 0.2242 - accuracy: 0.9100 - val_loss: 0.2164 - val_accuracy: 0.9374\n",
            "Epoch 3/10\n",
            "173/173 [==============================] - 53s 298ms/step - loss: 0.1694 - accuracy: 0.9479 - val_loss: 0.1483 - val_accuracy: 0.9525\n",
            "Epoch 4/10\n",
            "173/173 [==============================] - 53s 298ms/step - loss: 0.1477 - accuracy: 0.9537 - val_loss: 0.2078 - val_accuracy: 0.9421\n",
            "Epoch 5/10\n",
            "173/173 [==============================] - 53s 299ms/step - loss: 0.1328 - accuracy: 0.9574 - val_loss: 0.1335 - val_accuracy: 0.9572\n",
            "Epoch 6/10\n",
            "173/173 [==============================] - 53s 300ms/step - loss: 0.1243 - accuracy: 0.9597 - val_loss: 0.1368 - val_accuracy: 0.9570\n",
            "Epoch 7/10\n",
            "173/173 [==============================] - 53s 299ms/step - loss: 0.1150 - accuracy: 0.9622 - val_loss: 0.1664 - val_accuracy: 0.9521\n",
            "Epoch 8/10\n",
            "173/173 [==============================] - 53s 299ms/step - loss: 0.1073 - accuracy: 0.9647 - val_loss: 0.1288 - val_accuracy: 0.9581\n",
            "Epoch 9/10\n",
            "173/173 [==============================] - 53s 300ms/step - loss: 0.1007 - accuracy: 0.9659 - val_loss: 0.1313 - val_accuracy: 0.9570\n",
            "Epoch 10/10\n",
            "173/173 [==============================] - 53s 299ms/step - loss: 0.0905 - accuracy: 0.9691 - val_loss: 0.1284 - val_accuracy: 0.9590\n"
          ],
          "name": "stdout"
        },
        {
          "output_type": "execute_result",
          "data": {
            "text/plain": [
              "<tensorflow.python.keras.callbacks.History at 0x7f45d0469c18>"
            ]
          },
          "metadata": {
            "tags": []
          },
          "execution_count": 28
        }
      ]
    },
    {
      "cell_type": "code",
      "metadata": {
        "id": "GvaKoCJSeman"
      },
      "source": [
        "#F1-SCORE\r\n",
        "from sklearn.metrics import classification_report\r\n",
        "classes = ['infected', 'uninfected']"
      ],
      "execution_count": 29,
      "outputs": []
    },
    {
      "cell_type": "code",
      "metadata": {
        "colab": {
          "base_uri": "https://localhost:8080/"
        },
        "id": "UOS2znoFWpLc",
        "outputId": "ac4ec1f3-ad44-499c-cb0e-aa8127e680c5"
      },
      "source": [
        "validation_dataset = validation_dataset.unbatch().batch(1024)\r\n",
        "val_iter = iter(validation_dataset)\r\n",
        "for i, batch in enumerate(val_iter):\r\n",
        "  images, labels = batch\r\n",
        "  logits = model.predict(images)\r\n",
        "  preds = tf.nn.sigmoid(logits).numpy().squeeze()\r\n",
        "  preds = preds > 0.5\r\n",
        "  preds = preds.astype('int64')\r\n",
        "  labels = labels.numpy().squeeze()\r\n",
        "  print(f\"batch {i}\")\r\n",
        "  print(classification_report(labels, preds, target_names=classes))"
      ],
      "execution_count": 30,
      "outputs": [
        {
          "output_type": "stream",
          "text": [
            "batch 0\n",
            "              precision    recall  f1-score   support\n",
            "\n",
            "    infected       0.98      0.92      0.95       520\n",
            "  uninfected       0.92      0.98      0.95       504\n",
            "\n",
            "    accuracy                           0.95      1024\n",
            "   macro avg       0.95      0.95      0.95      1024\n",
            "weighted avg       0.95      0.95      0.95      1024\n",
            "\n",
            "batch 1\n",
            "              precision    recall  f1-score   support\n",
            "\n",
            "    infected       0.98      0.92      0.95       526\n",
            "  uninfected       0.92      0.98      0.95       498\n",
            "\n",
            "    accuracy                           0.95      1024\n",
            "   macro avg       0.95      0.95      0.95      1024\n",
            "weighted avg       0.95      0.95      0.95      1024\n",
            "\n",
            "batch 2\n",
            "              precision    recall  f1-score   support\n",
            "\n",
            "    infected       0.99      0.94      0.96       525\n",
            "  uninfected       0.94      0.99      0.96       499\n",
            "\n",
            "    accuracy                           0.96      1024\n",
            "   macro avg       0.96      0.96      0.96      1024\n",
            "weighted avg       0.96      0.96      0.96      1024\n",
            "\n",
            "batch 3\n",
            "              precision    recall  f1-score   support\n",
            "\n",
            "    infected       0.98      0.92      0.95       505\n",
            "  uninfected       0.93      0.98      0.96       519\n",
            "\n",
            "    accuracy                           0.96      1024\n",
            "   macro avg       0.96      0.95      0.95      1024\n",
            "weighted avg       0.96      0.96      0.96      1024\n",
            "\n",
            "batch 4\n",
            "              precision    recall  f1-score   support\n",
            "\n",
            "    infected       0.98      0.95      0.96       511\n",
            "  uninfected       0.95      0.98      0.96       513\n",
            "\n",
            "    accuracy                           0.96      1024\n",
            "   macro avg       0.96      0.96      0.96      1024\n",
            "weighted avg       0.96      0.96      0.96      1024\n",
            "\n",
            "batch 5\n",
            "              precision    recall  f1-score   support\n",
            "\n",
            "    infected       0.96      0.93      0.95       193\n",
            "  uninfected       0.94      0.96      0.95       199\n",
            "\n",
            "    accuracy                           0.95       392\n",
            "   macro avg       0.95      0.95      0.95       392\n",
            "weighted avg       0.95      0.95      0.95       392\n",
            "\n"
          ],
          "name": "stdout"
        }
      ]
    }
  ]
}