{
  "nbformat": 4,
  "nbformat_minor": 0,
  "metadata": {
    "colab": {
      "name": "sentencePiece-sentimentAnalysis.ipynb",
      "provenance": [],
      "collapsed_sections": [],
      "authorship_tag": "ABX9TyMZIprhZ/Ej/26inFqFkOAY",
      "include_colab_link": true
    },
    "kernelspec": {
      "name": "python3",
      "display_name": "Python 3"
    },
    "language_info": {
      "name": "python"
    }
  },
  "cells": [
    {
      "cell_type": "markdown",
      "metadata": {
        "id": "view-in-github",
        "colab_type": "text"
      },
      "source": [
        "<a href=\"https://colab.research.google.com/github/ecemdenizb/artificial-intelligence/blob/main/sentencePiece_sentimentAnalysis.ipynb\" target=\"_parent\"><img src=\"https://colab.research.google.com/assets/colab-badge.svg\" alt=\"Open In Colab\"/></a>"
      ]
    },
    {
      "cell_type": "code",
      "metadata": {
        "colab": {
          "base_uri": "https://localhost:8080/"
        },
        "id": "dEQd-9MtVxfw",
        "outputId": "75c5e75c-a870-4179-89ef-c43734d28f66"
      },
      "source": [
        "!pip install sentencepiece"
      ],
      "execution_count": null,
      "outputs": [
        {
          "output_type": "stream",
          "text": [
            "Requirement already satisfied: sentencepiece in /usr/local/lib/python3.7/dist-packages (0.1.95)\n"
          ],
          "name": "stdout"
        }
      ]
    },
    {
      "cell_type": "code",
      "metadata": {
        "id": "-ZERV2kmV9jn"
      },
      "source": [
        "import sentencepiece as spm\n",
        "import numpy as np\n",
        "import pandas as pd\n",
        "import tensorflow as tf\n",
        "\n",
        "from tensorflow.keras.models import Sequential, load_model\n",
        "from tensorflow.keras.layers import Dense, GRU, Embedding\n",
        "from tensorflow.keras.optimizers import Adam, RMSprop\n",
        "from tensorflow.keras.preprocessing.sequence import pad_sequences"
      ],
      "execution_count": null,
      "outputs": []
    },
    {
      "cell_type": "code",
      "metadata": {
        "colab": {
          "base_uri": "https://localhost:8080/"
        },
        "id": "L_Zp7thmV_Ah",
        "outputId": "89fb1e2f-d35e-4f4c-98be-bf47a10554dd"
      },
      "source": [
        "!wget https://www.dropbox.com/s/a7z7suwt85llb9a/hepsiburada.csv?dl=1 -O hepsiburada.csv"
      ],
      "execution_count": null,
      "outputs": [
        {
          "output_type": "stream",
          "text": [
            "--2021-03-20 07:15:02--  https://www.dropbox.com/s/a7z7suwt85llb9a/hepsiburada.csv?dl=1\n",
            "Resolving www.dropbox.com (www.dropbox.com)... 162.125.65.18, 2620:100:6022:18::a27d:4212\n",
            "Connecting to www.dropbox.com (www.dropbox.com)|162.125.65.18|:443... connected.\n",
            "HTTP request sent, awaiting response... 301 Moved Permanently\n",
            "Location: /s/dl/a7z7suwt85llb9a/hepsiburada.csv [following]\n",
            "--2021-03-20 07:15:02--  https://www.dropbox.com/s/dl/a7z7suwt85llb9a/hepsiburada.csv\n",
            "Reusing existing connection to www.dropbox.com:443.\n",
            "HTTP request sent, awaiting response... 302 Found\n",
            "Location: https://uc7c899b3a7cf7ed60f713a82bb3.dl.dropboxusercontent.com/cd/0/get/BLBSLAoZmfjI0AClSJpDltYNd-Auq0HGYtaRXOMuVJfzntFsHAFBBC-y2sx-UMCx8v2eFUPhR_m6mp42i3Q_UKQHCbUwiIygWuYJQz1CJdFGRdDX6qv1HVK3Ug46AoPX1tMi-UCUHR8Keq00IFF1Tjyh/file?dl=1# [following]\n",
            "--2021-03-20 07:15:02--  https://uc7c899b3a7cf7ed60f713a82bb3.dl.dropboxusercontent.com/cd/0/get/BLBSLAoZmfjI0AClSJpDltYNd-Auq0HGYtaRXOMuVJfzntFsHAFBBC-y2sx-UMCx8v2eFUPhR_m6mp42i3Q_UKQHCbUwiIygWuYJQz1CJdFGRdDX6qv1HVK3Ug46AoPX1tMi-UCUHR8Keq00IFF1Tjyh/file?dl=1\n",
            "Resolving uc7c899b3a7cf7ed60f713a82bb3.dl.dropboxusercontent.com (uc7c899b3a7cf7ed60f713a82bb3.dl.dropboxusercontent.com)... 162.125.65.15, 2620:100:6027:15::a27d:480f\n",
            "Connecting to uc7c899b3a7cf7ed60f713a82bb3.dl.dropboxusercontent.com (uc7c899b3a7cf7ed60f713a82bb3.dl.dropboxusercontent.com)|162.125.65.15|:443... connected.\n",
            "HTTP request sent, awaiting response... 200 OK\n",
            "Length: 44854141 (43M) [application/binary]\n",
            "Saving to: ‘hepsiburada.csv’\n",
            "\n",
            "hepsiburada.csv     100%[===================>]  42.78M  13.6MB/s    in 3.1s    \n",
            "\n",
            "2021-03-20 07:15:06 (13.6 MB/s) - ‘hepsiburada.csv’ saved [44854141/44854141]\n",
            "\n"
          ],
          "name": "stdout"
        }
      ]
    },
    {
      "cell_type": "code",
      "metadata": {
        "id": "vC85JlOYllfF"
      },
      "source": [
        "vocab_size=5000"
      ],
      "execution_count": null,
      "outputs": []
    },
    {
      "cell_type": "code",
      "metadata": {
        "colab": {
          "base_uri": "https://localhost:8080/",
          "height": 204
        },
        "id": "VQRjqM3vWSK3",
        "outputId": "a8fb5bde-c80a-4668-8e8d-938129544c72"
      },
      "source": [
        "dataset = pd.read_csv('hepsiburada.csv')\n",
        "dataset.head()"
      ],
      "execution_count": null,
      "outputs": [
        {
          "output_type": "execute_result",
          "data": {
            "text/html": [
              "<div>\n",
              "<style scoped>\n",
              "    .dataframe tbody tr th:only-of-type {\n",
              "        vertical-align: middle;\n",
              "    }\n",
              "\n",
              "    .dataframe tbody tr th {\n",
              "        vertical-align: top;\n",
              "    }\n",
              "\n",
              "    .dataframe thead th {\n",
              "        text-align: right;\n",
              "    }\n",
              "</style>\n",
              "<table border=\"1\" class=\"dataframe\">\n",
              "  <thead>\n",
              "    <tr style=\"text-align: right;\">\n",
              "      <th></th>\n",
              "      <th>Rating</th>\n",
              "      <th>Review</th>\n",
              "    </tr>\n",
              "  </thead>\n",
              "  <tbody>\n",
              "    <tr>\n",
              "      <th>0</th>\n",
              "      <td>1</td>\n",
              "      <td>3 yıldır tık demedi. :)</td>\n",
              "    </tr>\n",
              "    <tr>\n",
              "      <th>1</th>\n",
              "      <td>1</td>\n",
              "      <td>3 yıldır kullanıyorum müthiş</td>\n",
              "    </tr>\n",
              "    <tr>\n",
              "      <th>2</th>\n",
              "      <td>1</td>\n",
              "      <td>Ürün bugün elime geçti çok fazla inceleme fırs...</td>\n",
              "    </tr>\n",
              "    <tr>\n",
              "      <th>3</th>\n",
              "      <td>1</td>\n",
              "      <td>Almaya karar verdim. Hemencecik geldi. Keyifle...</td>\n",
              "    </tr>\n",
              "    <tr>\n",
              "      <th>4</th>\n",
              "      <td>1</td>\n",
              "      <td>Günlük kullanımınızı çok çok iyi karsılıyor kı...</td>\n",
              "    </tr>\n",
              "  </tbody>\n",
              "</table>\n",
              "</div>"
            ],
            "text/plain": [
              "   Rating                                             Review\n",
              "0       1                            3 yıldır tık demedi. :)\n",
              "1       1                      3 yıldır kullanıyorum müthiş \n",
              "2       1  Ürün bugün elime geçti çok fazla inceleme fırs...\n",
              "3       1  Almaya karar verdim. Hemencecik geldi. Keyifle...\n",
              "4       1  Günlük kullanımınızı çok çok iyi karsılıyor kı..."
            ]
          },
          "metadata": {
            "tags": []
          },
          "execution_count": 15
        }
      ]
    },
    {
      "cell_type": "code",
      "metadata": {
        "id": "3-r6GIbdWSIc"
      },
      "source": [
        "target = dataset['Rating'].values.tolist()\n",
        "reviews = dataset['Review']"
      ],
      "execution_count": null,
      "outputs": []
    },
    {
      "cell_type": "code",
      "metadata": {
        "colab": {
          "base_uri": "https://localhost:8080/"
        },
        "id": "mMRWMgwhXKqM",
        "outputId": "b11f40cc-927d-45f1-a8bb-160faae57b6a"
      },
      "source": [
        "reviews.to_csv('reviews.txt', index=False, header=False)\n",
        "!head reviews.txt"
      ],
      "execution_count": null,
      "outputs": [
        {
          "output_type": "stream",
          "text": [
            "3 yıldır tık demedi. :)\n",
            "3 yıldır kullanıyorum müthiş \n",
            "\"Ürün bugün elime geçti çok fazla inceleme fırsatım olmadı ancak gözüme çarpan ilk şey usb bağlantısı için pil kapağının altında çok güzel yer yapmış olmaları, daha önceden o aparatı kaybetmiş biri olarak bu özelliğini çok sevdim. Ayrıca 1000dpi olması çok iyi bu tip farelerin çoğu 800dpi oluyor. Eğer sizde benim gibi masaüstü bilgisayarınızdan oyuncu faresi ile yüksek dpi ayarına alışmış biriyseniz windows ayarından fareyi en hızlıya getirin ve bu fareyi sipariş verin pişman olmazsınız. Teşekkürler Logitech\"\n",
            "Almaya karar verdim. Hemencecik geldi. Keyifle kullanıyorum\n",
            "Günlük kullanımınızı çok çok iyi karsılıyor kısaca mükemmel\n",
            "gayet güzel\n",
            "Çok kaliteli bir ürün ve fiyatı da uygun. Uzun araştırmalarım sonucu aldım ve çok memnunum.\n",
            "yaklaşık 5 senedir kullanıyorum. defalarca düşmesine rağmen banamısın demedi. 5 yıl daha gider diye düşünüyorum.\n",
            "Ürün günlük kullanım için çok uygun. Ürünle birlikte 1 adet pil de çıkıyor. İş ve günlük kullanım için Kablosuz mouse isteyenler düşünmeden alabilir. Haftanın 5 günü yaklaşık 8 saat  kullanımda 2 ay civarında pil ömrü var.\n",
            "\"Ürünü bir arkadaşım 2009 yılında hediye olarak almıştı halen kullanmaktayım ki çok dikkatli kullanan bir kullanıcı da değilim. Gayet sağlam, dayanıklı ve aynı zamanda da ergonomik bir ürün.\"\n"
          ],
          "name": "stdout"
        }
      ]
    },
    {
      "cell_type": "code",
      "metadata": {
        "id": "YWNP2D4pb3rI"
      },
      "source": [
        "reviews=reviews.to_list()\n",
        "cutoff = int(len(reviews) * 0.8)\n",
        "x_train, x_test = reviews[:cutoff], reviews[cutoff:]\n",
        "y_train, y_test = target[:cutoff], target[cutoff:]"
      ],
      "execution_count": null,
      "outputs": []
    },
    {
      "cell_type": "code",
      "metadata": {
        "id": "0gw_6erKWR8I"
      },
      "source": [
        "x_train_tokens = []\n",
        "x_test_tokens= []"
      ],
      "execution_count": null,
      "outputs": []
    },
    {
      "cell_type": "code",
      "metadata": {
        "id": "mWTarbl8jg3d"
      },
      "source": [
        "spm.SentencePieceTrainer.Train(f'--input=reviews.txt --model_prefix=reviews_{vocab_size} --vocab_size={vocab_size} --minloglevel=2')"
      ],
      "execution_count": null,
      "outputs": []
    },
    {
      "cell_type": "code",
      "metadata": {
        "colab": {
          "base_uri": "https://localhost:8080/"
        },
        "id": "ohwq8CtyjkXc",
        "outputId": "b425dd9b-4f1b-49d4-841f-d5c810780f20"
      },
      "source": [
        "!ls"
      ],
      "execution_count": null,
      "outputs": [
        {
          "output_type": "stream",
          "text": [
            "hepsiburada.csv     reviews_5000.vocab\tsample_data\n",
            "reviews_5000.model  reviews.txt\n"
          ],
          "name": "stdout"
        }
      ]
    },
    {
      "cell_type": "code",
      "metadata": {
        "colab": {
          "base_uri": "https://localhost:8080/"
        },
        "id": "rC8HbLAeiw8h",
        "outputId": "4df724f5-9730-4518-d71c-d44023357e02"
      },
      "source": [
        "tokenizer=spm.SentencePieceProcessor()\n",
        "tokenizer.load('reviews_5000.model')"
      ],
      "execution_count": null,
      "outputs": [
        {
          "output_type": "execute_result",
          "data": {
            "text/plain": [
              "True"
            ]
          },
          "metadata": {
            "tags": []
          },
          "execution_count": 37
        }
      ]
    },
    {
      "cell_type": "code",
      "metadata": {
        "id": "Flur8pcbj1Pu"
      },
      "source": [
        "for review in x_train:\n",
        "  x_train_tokens.append(tokenizer.EncodeAsIds(review))\n",
        "for review in x_test:\n",
        "  x_test_tokens.append(tokenizer.EncodeAsIds(review))\n"
      ],
      "execution_count": null,
      "outputs": []
    },
    {
      "cell_type": "code",
      "metadata": {
        "colab": {
          "base_uri": "https://localhost:8080/"
        },
        "id": "Sl5_yvfQkF4t",
        "outputId": "761ce3d1-cf11-488b-cee7-b7f65321726d"
      },
      "source": [
        "num_tokens = [len(tokens) for tokens in x_train_tokens + x_test_tokens]\n",
        "num_tokens = np.array(num_tokens)\n",
        "np.mean(num_tokens), np.max(num_tokens), np.argmax(num_tokens)"
      ],
      "execution_count": null,
      "outputs": [
        {
          "output_type": "execute_result",
          "data": {
            "text/plain": [
              "(37.468970870277666, 930, 225796)"
            ]
          },
          "metadata": {
            "tags": []
          },
          "execution_count": 39
        }
      ]
    },
    {
      "cell_type": "code",
      "metadata": {
        "colab": {
          "base_uri": "https://localhost:8080/"
        },
        "id": "8c9TQVYHkMvA",
        "outputId": "7eec3540-5537-45e5-ab76-5783cf1c9de4"
      },
      "source": [
        "max_tokens = np.mean(num_tokens) + 2 * np.std(num_tokens)\n",
        "max_tokens = int(max_tokens)\n",
        "max_tokens"
      ],
      "execution_count": null,
      "outputs": [
        {
          "output_type": "execute_result",
          "data": {
            "text/plain": [
              "117"
            ]
          },
          "metadata": {
            "tags": []
          },
          "execution_count": 40
        }
      ]
    },
    {
      "cell_type": "code",
      "metadata": {
        "colab": {
          "base_uri": "https://localhost:8080/"
        },
        "id": "0JJZIJ6hWR3Z",
        "outputId": "294bbef7-0d9f-4310-82e9-e1c1d03a2f66"
      },
      "source": [
        "x_train_pad = pad_sequences(x_train_tokens, maxlen=max_tokens)\n",
        "x_test_pad = pad_sequences(x_test_tokens, maxlen=max_tokens)\n",
        "x_train_pad.shape, x_test_pad.shape"
      ],
      "execution_count": null,
      "outputs": [
        {
          "output_type": "execute_result",
          "data": {
            "text/plain": [
              "((194797, 117), (48700, 117))"
            ]
          },
          "metadata": {
            "tags": []
          },
          "execution_count": 41
        }
      ]
    },
    {
      "cell_type": "code",
      "metadata": {
        "colab": {
          "base_uri": "https://localhost:8080/"
        },
        "id": "B4OBdXrbD57O",
        "outputId": "80214cea-69fd-4b4e-9666-e6b34c0ab76d"
      },
      "source": [
        "embedding_size = 50\n",
        "model = Sequential()\n",
        "\n",
        "model.add(Embedding(input_dim=vocab_size,\n",
        "                    output_dim=embedding_size,\n",
        "                    input_length=max_tokens,\n",
        "                    name='embedding_layer'))\n",
        "\n",
        "model.add(GRU(units=16, return_sequences=True))\n",
        "model.add(GRU(units=8, return_sequences=True))\n",
        "model.add(GRU(units=4))\n",
        "model.add(Dense(1))\n",
        "model.summary()"
      ],
      "execution_count": null,
      "outputs": [
        {
          "output_type": "stream",
          "text": [
            "Model: \"sequential_1\"\n",
            "_________________________________________________________________\n",
            "Layer (type)                 Output Shape              Param #   \n",
            "=================================================================\n",
            "embedding_layer (Embedding)  (None, 117, 50)           250000    \n",
            "_________________________________________________________________\n",
            "gru_3 (GRU)                  (None, 117, 16)           3264      \n",
            "_________________________________________________________________\n",
            "gru_4 (GRU)                  (None, 117, 8)            624       \n",
            "_________________________________________________________________\n",
            "gru_5 (GRU)                  (None, 4)                 168       \n",
            "_________________________________________________________________\n",
            "dense_1 (Dense)              (None, 1)                 5         \n",
            "=================================================================\n",
            "Total params: 254,061\n",
            "Trainable params: 254,061\n",
            "Non-trainable params: 0\n",
            "_________________________________________________________________\n"
          ],
          "name": "stdout"
        }
      ]
    },
    {
      "cell_type": "code",
      "metadata": {
        "id": "64ZpyU6WD526"
      },
      "source": [
        "optimizer = Adam(lr=1e-3)\n",
        "model.compile(loss=tf.keras.losses.BinaryCrossentropy(from_logits=True),\n",
        "              optimizer=optimizer,\n",
        "              metrics=['accuracy'])\n"
      ],
      "execution_count": null,
      "outputs": []
    },
    {
      "cell_type": "code",
      "metadata": {
        "id": "gWdD21pWHAXr"
      },
      "source": [
        "from tensorflow.data import Dataset\n",
        "train_ds = Dataset.zip((Dataset.from_tensor_slices(x_train_pad),Dataset.from_tensor_slices(y_train)))\n",
        "train_ds = train_ds.shuffle(1024).batch(256)\n",
        "val_ds = Dataset.zip((Dataset.from_tensor_slices(x_test_pad), Dataset.from_tensor_slices(y_test)))\n",
        "val_ds = val_ds.batch(256)\n",
        "steps_per_epoch = len(x_train_pad) // 256\n",
        "validation_steps = len(x_test_pad) // 256"
      ],
      "execution_count": null,
      "outputs": []
    },
    {
      "cell_type": "code",
      "metadata": {
        "colab": {
          "base_uri": "https://localhost:8080/"
        },
        "id": "nfEzWwMIHAVb",
        "outputId": "9e1ef282-e3b7-4f8c-d597-a33299801eee"
      },
      "source": [
        "model.fit(train_ds.repeat(), epochs=5, steps_per_epoch=steps_per_epoch, validation_data=val_ds.repeat(), validation_steps=validation_steps)"
      ],
      "execution_count": null,
      "outputs": [
        {
          "output_type": "stream",
          "text": [
            "Epoch 1/5\n",
            "760/760 [==============================] - 128s 162ms/step - loss: 0.2842 - accuracy: 0.8465 - val_loss: 0.2127 - val_accuracy: 0.9428\n",
            "Epoch 2/5\n",
            "760/760 [==============================] - 122s 161ms/step - loss: 0.1637 - accuracy: 0.9532 - val_loss: 0.1465 - val_accuracy: 0.9480\n",
            "Epoch 3/5\n",
            "760/760 [==============================] - 124s 164ms/step - loss: 0.1071 - accuracy: 0.9636 - val_loss: 0.1331 - val_accuracy: 0.9516\n",
            "Epoch 4/5\n",
            "760/760 [==============================] - 125s 164ms/step - loss: 0.0836 - accuracy: 0.9720 - val_loss: 0.1389 - val_accuracy: 0.9549\n",
            "Epoch 5/5\n",
            "760/760 [==============================] - 125s 165ms/step - loss: 0.0685 - accuracy: 0.9783 - val_loss: 0.1523 - val_accuracy: 0.9567\n"
          ],
          "name": "stdout"
        },
        {
          "output_type": "execute_result",
          "data": {
            "text/plain": [
              "<tensorflow.python.keras.callbacks.History at 0x7f1e7f1c6410>"
            ]
          },
          "metadata": {
            "tags": []
          },
          "execution_count": 45
        }
      ]
    }
  ]
}