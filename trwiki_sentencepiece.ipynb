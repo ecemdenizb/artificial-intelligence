{
  "nbformat": 4,
  "nbformat_minor": 0,
  "metadata": {
    "accelerator": "GPU",
    "colab": {
      "name": "trwiki-sentencepiece.ipynb",
      "provenance": [],
      "collapsed_sections": [],
      "authorship_tag": "ABX9TyNrA77udlpEI5fTCI/hfG8S"
    },
    "kernelspec": {
      "display_name": "Python 3",
      "name": "python3"
    },
    "language_info": {
      "name": "python"
    }
  },
  "cells": [
    {
      "cell_type": "code",
      "metadata": {
        "colab": {
          "base_uri": "https://localhost:8080/"
        },
        "id": "_Ayl8pdyHMqU",
        "outputId": "2b66feda-b816-4898-9abc-4144bb2e8d7e"
      },
      "source": [
        "!wget https://dumps.wikimedia.org/trwiki/latest/trwiki-latest-pages-articles.xml.bz2 -O trwiki-latest.xml.bz2"
      ],
      "execution_count": null,
      "outputs": [
        {
          "output_type": "stream",
          "text": [
            "--2021-04-03 21:34:11--  https://dumps.wikimedia.org/trwiki/latest/trwiki-latest-pages-articles.xml.bz2\n",
            "Resolving dumps.wikimedia.org (dumps.wikimedia.org)... 208.80.154.7, 2620:0:861:1:208:80:154:7\n",
            "Connecting to dumps.wikimedia.org (dumps.wikimedia.org)|208.80.154.7|:443... connected.\n",
            "HTTP request sent, awaiting response... 200 OK\n",
            "Length: 616692246 (588M) [application/octet-stream]\n",
            "Saving to: ‘trwiki-latest.xml.bz2’\n",
            "\n",
            "trwiki-latest.xml.b 100%[===================>] 588.12M  4.71MB/s    in 2m 6s   \n",
            "\n",
            "2021-04-03 21:36:17 (4.65 MB/s) - ‘trwiki-latest.xml.bz2’ saved [616692246/616692246]\n",
            "\n"
          ],
          "name": "stdout"
        }
      ]
    },
    {
      "cell_type": "code",
      "metadata": {
        "colab": {
          "base_uri": "https://localhost:8080/"
        },
        "id": "8czeFPogHMn0",
        "outputId": "30574fea-6c21-4aca-bcc0-9d46b82a1a07"
      },
      "source": [
        "!pip install wikiextractor"
      ],
      "execution_count": null,
      "outputs": [
        {
          "output_type": "stream",
          "text": [
            "Collecting wikiextractor\n",
            "\u001b[?25l  Downloading https://files.pythonhosted.org/packages/0c/bd/6b8ffc89fa4abefd801f7b0f83bc17382664484bd32eb6529b243d7a8f12/wikiextractor-3.0.4-py3-none-any.whl (46kB)\n",
            "\r\u001b[K     |███████                         | 10kB 21.7MB/s eta 0:00:01\r\u001b[K     |██████████████▏                 | 20kB 27.3MB/s eta 0:00:01\r\u001b[K     |█████████████████████▏          | 30kB 20.1MB/s eta 0:00:01\r\u001b[K     |████████████████████████████▎   | 40kB 23.8MB/s eta 0:00:01\r\u001b[K     |████████████████████████████████| 51kB 6.7MB/s \n",
            "\u001b[?25hInstalling collected packages: wikiextractor\n",
            "Successfully installed wikiextractor-3.0.4\n"
          ],
          "name": "stdout"
        }
      ]
    },
    {
      "cell_type": "code",
      "metadata": {
        "colab": {
          "base_uri": "https://localhost:8080/"
        },
        "id": "3OmeY5FPHMla",
        "outputId": "98128817-2127-4d26-81ea-95c9cfe6ff94"
      },
      "source": [
        "!python -m wikiextractor.WikiExtractor -o trwiki trwiki-latest.xml.bz2"
      ],
      "execution_count": null,
      "outputs": [
        {
          "output_type": "stream",
          "text": [
            "INFO: Preprocessing 'trwiki-latest.xml.bz2' to collect template definitions: this may take some time.\n",
            "INFO: Preprocessed 100000 pages\n",
            "INFO: Preprocessed 200000 pages\n",
            "INFO: Preprocessed 300000 pages\n",
            "INFO: Preprocessed 400000 pages\n",
            "INFO: Preprocessed 500000 pages\n",
            "INFO: Preprocessed 600000 pages\n",
            "INFO: Preprocessed 700000 pages\n",
            "INFO: Preprocessed 800000 pages\n",
            "INFO: Preprocessed 900000 pages\n",
            "INFO: Preprocessed 1000000 pages\n",
            "INFO: Loaded 53742 templates in 168.8s\n",
            "INFO: Starting page extraction from trwiki-latest.xml.bz2.\n",
            "INFO: Using 1 extract processes.\n",
            "INFO: Extracted 100000 articles (1133.3 art/s)\n",
            "INFO: Extracted 200000 articles (1301.0 art/s)\n",
            "INFO: Extracted 300000 articles (1727.4 art/s)\n",
            "INFO: Extracted 400000 articles (1440.5 art/s)\n",
            "INFO: Extracted 500000 articles (1173.3 art/s)\n",
            "INFO: Extracted 600000 articles (1199.5 art/s)\n",
            "INFO: Finished 1-process extraction of 668020 articles in 522.7s (1277.9 art/s)\n"
          ],
          "name": "stdout"
        }
      ]
    },
    {
      "cell_type": "code",
      "metadata": {
        "colab": {
          "base_uri": "https://localhost:8080/"
        },
        "id": "Vzw6oBknG5ji",
        "outputId": "76df7e4b-e9e5-4540-e065-4a92c68ebd2b"
      },
      "source": [
        "from google.colab import drive\n",
        "drive.mount('/content/gdrive')"
      ],
      "execution_count": null,
      "outputs": [
        {
          "output_type": "stream",
          "text": [
            "Mounted at /content/gdrive\n"
          ],
          "name": "stdout"
        }
      ]
    },
    {
      "cell_type": "code",
      "metadata": {
        "id": "TrsP3M8tNkDY"
      },
      "source": [
        "filenames=['wiki_00','wiki_01','wiki_02','wiki_03','wiki_04','wiki_05','wiki_06','wiki_07','wiki_08', 'wiki_09',]\n",
        "filenamesaf=['wiki_00','wiki_01','wiki_02','wiki_03','wiki_04','wiki_05','wiki_06','wiki_07','wiki_08', 'wiki_09',]\n"
      ],
      "execution_count": null,
      "outputs": []
    },
    {
      "cell_type": "code",
      "metadata": {
        "id": "z5oDxkQnOw6W"
      },
      "source": [
        "i=00\n",
        "for i in range(10,100):\n",
        " filenames.append('wiki_'+str(i))\n",
        "i=00\n",
        "for i in range(10,67):\n",
        " filenamesaf.append('wiki_'+str(i))"
      ],
      "execution_count": null,
      "outputs": []
    },
    {
      "cell_type": "code",
      "metadata": {
        "id": "wIjz2pgUO2Ln"
      },
      "source": [
        "with open('trwiki/output', 'a') as outfile:\n",
        "    for fname in filenames:\n",
        "        with open('trwiki/AA/'+fname) as infile:\n",
        "            for line in infile:\n",
        "                outfile.write(line)\n",
        "with open('trwiki/output', 'a') as outfile:\n",
        "    for fname in filenames:\n",
        "        with open('trwiki/AB/'+fname) as infile:\n",
        "            for line in infile:\n",
        "                outfile.write(line)\n",
        "with open('trwiki/output', 'a') as outfile:\n",
        "    for fname in filenames:\n",
        "        with open('trwiki/AC/'+fname) as infile:\n",
        "            for line in infile:\n",
        "                outfile.write(line)\n",
        "with open('trwiki/output', 'a') as outfile:\n",
        "    for fname in filenames:\n",
        "        with open('trwiki/AD/'+fname) as infile:\n",
        "            for line in infile:\n",
        "                outfile.write(line)\n",
        "with open('trwiki/output', 'a') as outfile:\n",
        "    for fname in filenames:\n",
        "        with open('trwiki/AE/'+fname) as infile:\n",
        "            for line in infile:\n",
        "                outfile.write(line)\n",
        "with open('trwiki/output', 'a') as outfile:\n",
        "    for fname in filenamesaf:\n",
        "        with open('trwiki/AF/'+fname) as infile:\n",
        "            for line in infile:\n",
        "                outfile.write(line)"
      ],
      "execution_count": null,
      "outputs": []
    },
    {
      "cell_type": "code",
      "metadata": {
        "id": "bTdlJvAaPD1R"
      },
      "source": [
        "import re"
      ],
      "execution_count": null,
      "outputs": []
    },
    {
      "cell_type": "code",
      "metadata": {
        "id": "xyVhqfYuO-Cv"
      },
      "source": [
        "with open('trwiki/output', 'r', encoding='utf8') as f:\n",
        "  s = f.read()\n",
        "  s = s.replace('</doc>', '')\n",
        "  s = re.sub(r'<doc id.*>\\n', '', s)"
      ],
      "execution_count": null,
      "outputs": []
    },
    {
      "cell_type": "code",
      "metadata": {
        "id": "T9DXyLj1RUkO"
      },
      "source": [
        "with open('/content/gdrive/MyDrive/trwiki-edit.txt', 'w', encoding='utf8') as f:\n",
        "  f.writelines(s)"
      ],
      "execution_count": null,
      "outputs": []
    },
    {
      "cell_type": "code",
      "metadata": {
        "colab": {
          "base_uri": "https://localhost:8080/"
        },
        "id": "DPNqbCSPQ6KK",
        "outputId": "fcdf2c7e-cb34-4eb1-c6a7-de151551a7f1"
      },
      "source": [
        "!pip install sentencepiece"
      ],
      "execution_count": null,
      "outputs": [
        {
          "output_type": "stream",
          "text": [
            "Collecting sentencepiece\n",
            "\u001b[?25l  Downloading https://files.pythonhosted.org/packages/f5/99/e0808cb947ba10f575839c43e8fafc9cc44e4a7a2c8f79c60db48220a577/sentencepiece-0.1.95-cp37-cp37m-manylinux2014_x86_64.whl (1.2MB)\n",
            "\r\u001b[K     |▎                               | 10kB 20.4MB/s eta 0:00:01\r\u001b[K     |▌                               | 20kB 27.0MB/s eta 0:00:01\r\u001b[K     |▉                               | 30kB 32.5MB/s eta 0:00:01\r\u001b[K     |█                               | 40kB 28.3MB/s eta 0:00:01\r\u001b[K     |█▍                              | 51kB 28.0MB/s eta 0:00:01\r\u001b[K     |█▋                              | 61kB 30.4MB/s eta 0:00:01\r\u001b[K     |██                              | 71kB 20.9MB/s eta 0:00:01\r\u001b[K     |██▏                             | 81kB 22.2MB/s eta 0:00:01\r\u001b[K     |██▌                             | 92kB 20.6MB/s eta 0:00:01\r\u001b[K     |██▊                             | 102kB 20.6MB/s eta 0:00:01\r\u001b[K     |███                             | 112kB 20.6MB/s eta 0:00:01\r\u001b[K     |███▎                            | 122kB 20.6MB/s eta 0:00:01\r\u001b[K     |███▌                            | 133kB 20.6MB/s eta 0:00:01\r\u001b[K     |███▉                            | 143kB 20.6MB/s eta 0:00:01\r\u001b[K     |████                            | 153kB 20.6MB/s eta 0:00:01\r\u001b[K     |████▍                           | 163kB 20.6MB/s eta 0:00:01\r\u001b[K     |████▋                           | 174kB 20.6MB/s eta 0:00:01\r\u001b[K     |█████                           | 184kB 20.6MB/s eta 0:00:01\r\u001b[K     |█████▏                          | 194kB 20.6MB/s eta 0:00:01\r\u001b[K     |█████▌                          | 204kB 20.6MB/s eta 0:00:01\r\u001b[K     |█████▊                          | 215kB 20.6MB/s eta 0:00:01\r\u001b[K     |██████                          | 225kB 20.6MB/s eta 0:00:01\r\u001b[K     |██████▎                         | 235kB 20.6MB/s eta 0:00:01\r\u001b[K     |██████▌                         | 245kB 20.6MB/s eta 0:00:01\r\u001b[K     |██████▉                         | 256kB 20.6MB/s eta 0:00:01\r\u001b[K     |███████                         | 266kB 20.6MB/s eta 0:00:01\r\u001b[K     |███████▍                        | 276kB 20.6MB/s eta 0:00:01\r\u001b[K     |███████▋                        | 286kB 20.6MB/s eta 0:00:01\r\u001b[K     |████████                        | 296kB 20.6MB/s eta 0:00:01\r\u001b[K     |████████▏                       | 307kB 20.6MB/s eta 0:00:01\r\u001b[K     |████████▍                       | 317kB 20.6MB/s eta 0:00:01\r\u001b[K     |████████▊                       | 327kB 20.6MB/s eta 0:00:01\r\u001b[K     |█████████                       | 337kB 20.6MB/s eta 0:00:01\r\u001b[K     |█████████▎                      | 348kB 20.6MB/s eta 0:00:01\r\u001b[K     |█████████▌                      | 358kB 20.6MB/s eta 0:00:01\r\u001b[K     |█████████▉                      | 368kB 20.6MB/s eta 0:00:01\r\u001b[K     |██████████                      | 378kB 20.6MB/s eta 0:00:01\r\u001b[K     |██████████▍                     | 389kB 20.6MB/s eta 0:00:01\r\u001b[K     |██████████▋                     | 399kB 20.6MB/s eta 0:00:01\r\u001b[K     |███████████                     | 409kB 20.6MB/s eta 0:00:01\r\u001b[K     |███████████▏                    | 419kB 20.6MB/s eta 0:00:01\r\u001b[K     |███████████▍                    | 430kB 20.6MB/s eta 0:00:01\r\u001b[K     |███████████▊                    | 440kB 20.6MB/s eta 0:00:01\r\u001b[K     |████████████                    | 450kB 20.6MB/s eta 0:00:01\r\u001b[K     |████████████▎                   | 460kB 20.6MB/s eta 0:00:01\r\u001b[K     |████████████▌                   | 471kB 20.6MB/s eta 0:00:01\r\u001b[K     |████████████▉                   | 481kB 20.6MB/s eta 0:00:01\r\u001b[K     |█████████████                   | 491kB 20.6MB/s eta 0:00:01\r\u001b[K     |█████████████▍                  | 501kB 20.6MB/s eta 0:00:01\r\u001b[K     |█████████████▋                  | 512kB 20.6MB/s eta 0:00:01\r\u001b[K     |█████████████▉                  | 522kB 20.6MB/s eta 0:00:01\r\u001b[K     |██████████████▏                 | 532kB 20.6MB/s eta 0:00:01\r\u001b[K     |██████████████▍                 | 542kB 20.6MB/s eta 0:00:01\r\u001b[K     |██████████████▊                 | 552kB 20.6MB/s eta 0:00:01\r\u001b[K     |███████████████                 | 563kB 20.6MB/s eta 0:00:01\r\u001b[K     |███████████████▎                | 573kB 20.6MB/s eta 0:00:01\r\u001b[K     |███████████████▌                | 583kB 20.6MB/s eta 0:00:01\r\u001b[K     |███████████████▉                | 593kB 20.6MB/s eta 0:00:01\r\u001b[K     |████████████████                | 604kB 20.6MB/s eta 0:00:01\r\u001b[K     |████████████████▍               | 614kB 20.6MB/s eta 0:00:01\r\u001b[K     |████████████████▋               | 624kB 20.6MB/s eta 0:00:01\r\u001b[K     |████████████████▉               | 634kB 20.6MB/s eta 0:00:01\r\u001b[K     |█████████████████▏              | 645kB 20.6MB/s eta 0:00:01\r\u001b[K     |█████████████████▍              | 655kB 20.6MB/s eta 0:00:01\r\u001b[K     |█████████████████▊              | 665kB 20.6MB/s eta 0:00:01\r\u001b[K     |██████████████████              | 675kB 20.6MB/s eta 0:00:01\r\u001b[K     |██████████████████▎             | 686kB 20.6MB/s eta 0:00:01\r\u001b[K     |██████████████████▌             | 696kB 20.6MB/s eta 0:00:01\r\u001b[K     |██████████████████▉             | 706kB 20.6MB/s eta 0:00:01\r\u001b[K     |███████████████████             | 716kB 20.6MB/s eta 0:00:01\r\u001b[K     |███████████████████▎            | 727kB 20.6MB/s eta 0:00:01\r\u001b[K     |███████████████████▋            | 737kB 20.6MB/s eta 0:00:01\r\u001b[K     |███████████████████▉            | 747kB 20.6MB/s eta 0:00:01\r\u001b[K     |████████████████████▏           | 757kB 20.6MB/s eta 0:00:01\r\u001b[K     |████████████████████▍           | 768kB 20.6MB/s eta 0:00:01\r\u001b[K     |████████████████████▊           | 778kB 20.6MB/s eta 0:00:01\r\u001b[K     |█████████████████████           | 788kB 20.6MB/s eta 0:00:01\r\u001b[K     |█████████████████████▎          | 798kB 20.6MB/s eta 0:00:01\r\u001b[K     |█████████████████████▌          | 808kB 20.6MB/s eta 0:00:01\r\u001b[K     |█████████████████████▉          | 819kB 20.6MB/s eta 0:00:01\r\u001b[K     |██████████████████████          | 829kB 20.6MB/s eta 0:00:01\r\u001b[K     |██████████████████████▎         | 839kB 20.6MB/s eta 0:00:01\r\u001b[K     |██████████████████████▋         | 849kB 20.6MB/s eta 0:00:01\r\u001b[K     |██████████████████████▉         | 860kB 20.6MB/s eta 0:00:01\r\u001b[K     |███████████████████████▏        | 870kB 20.6MB/s eta 0:00:01\r\u001b[K     |███████████████████████▍        | 880kB 20.6MB/s eta 0:00:01\r\u001b[K     |███████████████████████▊        | 890kB 20.6MB/s eta 0:00:01\r\u001b[K     |████████████████████████        | 901kB 20.6MB/s eta 0:00:01\r\u001b[K     |████████████████████████▎       | 911kB 20.6MB/s eta 0:00:01\r\u001b[K     |████████████████████████▌       | 921kB 20.6MB/s eta 0:00:01\r\u001b[K     |████████████████████████▊       | 931kB 20.6MB/s eta 0:00:01\r\u001b[K     |█████████████████████████       | 942kB 20.6MB/s eta 0:00:01\r\u001b[K     |█████████████████████████▎      | 952kB 20.6MB/s eta 0:00:01\r\u001b[K     |█████████████████████████▋      | 962kB 20.6MB/s eta 0:00:01\r\u001b[K     |█████████████████████████▉      | 972kB 20.6MB/s eta 0:00:01\r\u001b[K     |██████████████████████████▏     | 983kB 20.6MB/s eta 0:00:01\r\u001b[K     |██████████████████████████▍     | 993kB 20.6MB/s eta 0:00:01\r\u001b[K     |██████████████████████████▊     | 1.0MB 20.6MB/s eta 0:00:01\r\u001b[K     |███████████████████████████     | 1.0MB 20.6MB/s eta 0:00:01\r\u001b[K     |███████████████████████████▎    | 1.0MB 20.6MB/s eta 0:00:01\r\u001b[K     |███████████████████████████▌    | 1.0MB 20.6MB/s eta 0:00:01\r\u001b[K     |███████████████████████████▊    | 1.0MB 20.6MB/s eta 0:00:01\r\u001b[K     |████████████████████████████    | 1.1MB 20.6MB/s eta 0:00:01\r\u001b[K     |████████████████████████████▎   | 1.1MB 20.6MB/s eta 0:00:01\r\u001b[K     |████████████████████████████▋   | 1.1MB 20.6MB/s eta 0:00:01\r\u001b[K     |████████████████████████████▉   | 1.1MB 20.6MB/s eta 0:00:01\r\u001b[K     |█████████████████████████████▏  | 1.1MB 20.6MB/s eta 0:00:01\r\u001b[K     |█████████████████████████████▍  | 1.1MB 20.6MB/s eta 0:00:01\r\u001b[K     |█████████████████████████████▊  | 1.1MB 20.6MB/s eta 0:00:01\r\u001b[K     |██████████████████████████████  | 1.1MB 20.6MB/s eta 0:00:01\r\u001b[K     |██████████████████████████████▏ | 1.1MB 20.6MB/s eta 0:00:01\r\u001b[K     |██████████████████████████████▌ | 1.1MB 20.6MB/s eta 0:00:01\r\u001b[K     |██████████████████████████████▊ | 1.2MB 20.6MB/s eta 0:00:01\r\u001b[K     |███████████████████████████████ | 1.2MB 20.6MB/s eta 0:00:01\r\u001b[K     |███████████████████████████████▎| 1.2MB 20.6MB/s eta 0:00:01\r\u001b[K     |███████████████████████████████▋| 1.2MB 20.6MB/s eta 0:00:01\r\u001b[K     |███████████████████████████████▉| 1.2MB 20.6MB/s eta 0:00:01\r\u001b[K     |████████████████████████████████| 1.2MB 20.6MB/s \n",
            "\u001b[?25hInstalling collected packages: sentencepiece\n",
            "Successfully installed sentencepiece-0.1.95\n"
          ],
          "name": "stdout"
        }
      ]
    },
    {
      "cell_type": "code",
      "metadata": {
        "id": "FfLbISleO9xX"
      },
      "source": [
        "import sentencepiece as spm\n",
        "import numpy as np\n",
        "import pandas as pd"
      ],
      "execution_count": null,
      "outputs": []
    },
    {
      "cell_type": "code",
      "metadata": {
        "id": "OJ7OV5JRROFk"
      },
      "source": [
        "vocab_size=10000"
      ],
      "execution_count": null,
      "outputs": []
    },
    {
      "cell_type": "code",
      "metadata": {
        "id": "XQ2SflTbRRE_"
      },
      "source": [
        "spm.SentencePieceTrainer.Train(f'--input=/content/gdrive/MyDrive/trwiki-edit.txt --model_prefix=trwiki_{vocab_size} --vocab_size={vocab_size} --minloglevel=2')\n"
      ],
      "execution_count": null,
      "outputs": []
    },
    {
      "cell_type": "code",
      "metadata": {
        "id": "2ZrcG6QsHOdk"
      },
      "source": [
        "!ls"
      ],
      "execution_count": null,
      "outputs": []
    }
  ]
}