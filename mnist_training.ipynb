{
  "nbformat": 4,
  "nbformat_minor": 0,
  "metadata": {
    "colab": {
      "name": "mnist-training.ipynb",
      "provenance": [],
      "collapsed_sections": [],
      "authorship_tag": "ABX9TyMYWb9TfRPpPujpjBA3KNjQ",
      "include_colab_link": true
    },
    "kernelspec": {
      "name": "python3",
      "display_name": "Python 3"
    }
  },
  "cells": [
    {
      "cell_type": "markdown",
      "metadata": {
        "id": "view-in-github",
        "colab_type": "text"
      },
      "source": [
        "<a href=\"https://colab.research.google.com/github/ecemdenizb/machine-learning/blob/main/mnist_training.ipynb\" target=\"_parent\"><img src=\"https://colab.research.google.com/assets/colab-badge.svg\" alt=\"Open In Colab\"/></a>"
      ]
    },
    {
      "cell_type": "code",
      "metadata": {
        "colab": {
          "base_uri": "https://localhost:8080/"
        },
        "id": "VmJ-NMezEF6D",
        "outputId": "20b2a21a-e4cf-4fab-d035-455f8b75a7b6"
      },
      "source": [
        "import tensorflow as tf\r\n",
        "from tensorflow import keras\r\n",
        "from tensorflow.keras.datasets import mnist\r\n",
        "\r\n",
        "\r\n",
        "(x_train, y_train),(x_test, y_test) = mnist.load_data()\r\n",
        "print(x_train.shape)"
      ],
      "execution_count": null,
      "outputs": [
        {
          "output_type": "stream",
          "text": [
            "(60000, 28, 28)\n"
          ],
          "name": "stdout"
        }
      ]
    },
    {
      "cell_type": "code",
      "metadata": {
        "id": "zr_sqZ6yhbvz"
      },
      "source": [
        "#x_train=x_train.astype(\"float32\")/255.0\r\n",
        "#x_test=x_test.astype(\"float32\")/255.0\r\n",
        "x_train = x_train / 1.0\r\n",
        "x_test = x_test / 1.0\r\n",
        "normalization = tf.keras.layers.experimental.preprocessing.Normalization()\r\n",
        "normalization.adapt(x_train)"
      ],
      "execution_count": null,
      "outputs": []
    },
    {
      "cell_type": "code",
      "metadata": {
        "colab": {
          "base_uri": "https://localhost:8080/"
        },
        "id": "wNYRURVIEIWc",
        "outputId": "100b873f-747a-4326-ebd8-320ad8d0b1e9"
      },
      "source": [
        "model=tf.keras.Sequential([\r\n",
        "                        tf.keras.Input(shape=(28,28,1)),\r\n",
        "                        tf.keras.layers.Conv2D(14,2,padding='valid',activation='relu'),\r\n",
        "                        tf.keras.layers.MaxPool2D((2, 2)),\r\n",
        "                        tf.keras.layers.Conv2D(28,1,padding='same',activation='relu'),\r\n",
        "                        tf.keras.layers.MaxPool2D((2, 2)),\r\n",
        "                        tf.keras.layers.Flatten(),\r\n",
        "                        tf.keras.layers.Dense(28,activation='relu'),\r\n",
        "                        tf.keras.layers.Dense(10),\r\n",
        "])\r\n",
        "model.summary()"
      ],
      "execution_count": null,
      "outputs": [
        {
          "output_type": "stream",
          "text": [
            "Model: \"sequential_2\"\n",
            "_________________________________________________________________\n",
            "Layer (type)                 Output Shape              Param #   \n",
            "=================================================================\n",
            "conv2d_4 (Conv2D)            (None, 27, 27, 14)        70        \n",
            "_________________________________________________________________\n",
            "max_pooling2d_4 (MaxPooling2 (None, 13, 13, 14)        0         \n",
            "_________________________________________________________________\n",
            "conv2d_5 (Conv2D)            (None, 13, 13, 28)        420       \n",
            "_________________________________________________________________\n",
            "max_pooling2d_5 (MaxPooling2 (None, 6, 6, 28)          0         \n",
            "_________________________________________________________________\n",
            "flatten_2 (Flatten)          (None, 1008)              0         \n",
            "_________________________________________________________________\n",
            "dense_4 (Dense)              (None, 28)                28252     \n",
            "_________________________________________________________________\n",
            "dense_5 (Dense)              (None, 10)                290       \n",
            "=================================================================\n",
            "Total params: 29,032\n",
            "Trainable params: 29,032\n",
            "Non-trainable params: 0\n",
            "_________________________________________________________________\n"
          ],
          "name": "stdout"
        }
      ]
    },
    {
      "cell_type": "code",
      "metadata": {
        "id": "dnZsP0ZvEIY8"
      },
      "source": [
        "model.compile(optimizer='rmsprop',\r\n",
        "              loss=tf.keras.losses.SparseCategoricalCrossentropy(from_logits=True),\r\n",
        "              metrics=['accuracy'])\r\n",
        "#instead of using softmax activation for the last dense layer, i have used 'from_logits=true' instruction with optimizer\r\n",
        "#since there are more than 2 options to decide (it could be any of the 10 numbers), i have used sparse categorical crossentropy instead of binary crossentropy "
      ],
      "execution_count": null,
      "outputs": []
    },
    {
      "cell_type": "code",
      "metadata": {
        "id": "2gSCX1urBhVW"
      },
      "source": [
        "#in order to fit the model, tensorflow expects min 4 dimensions, so i have added 1 dummy dimension to both train and test data\r\n",
        "x_train=x_train.reshape(60000,28,28,1)\r\n",
        "x_test.reshape(10000,28,28,1)"
      ],
      "execution_count": null,
      "outputs": []
    },
    {
      "cell_type": "code",
      "metadata": {
        "colab": {
          "base_uri": "https://localhost:8080/"
        },
        "id": "RD5XTj3GEIa8",
        "outputId": "f2b5ace2-bfe5-4c6e-971e-89c6ef8e5a92"
      },
      "source": [
        "model.fit(x_train, y_train, batch_size=28, epochs=10, verbose=1)"
      ],
      "execution_count": null,
      "outputs": [
        {
          "output_type": "stream",
          "text": [
            "Epoch 1/10\n",
            "2143/2143 [==============================] - 22s 10ms/step - loss: 2.1309 - accuracy: 0.7938\n",
            "Epoch 2/10\n",
            "2143/2143 [==============================] - 22s 10ms/step - loss: 0.1212 - accuracy: 0.9656\n",
            "Epoch 3/10\n",
            "2143/2143 [==============================] - 22s 10ms/step - loss: 0.0879 - accuracy: 0.9760\n",
            "Epoch 4/10\n",
            "2143/2143 [==============================] - 23s 11ms/step - loss: 0.0721 - accuracy: 0.9796\n",
            "Epoch 5/10\n",
            "2143/2143 [==============================] - 23s 11ms/step - loss: 0.0679 - accuracy: 0.9813\n",
            "Epoch 6/10\n",
            "2143/2143 [==============================] - 22s 10ms/step - loss: 0.0656 - accuracy: 0.9824\n",
            "Epoch 7/10\n",
            "2143/2143 [==============================] - 22s 10ms/step - loss: 0.0620 - accuracy: 0.9826\n",
            "Epoch 8/10\n",
            "2143/2143 [==============================] - 22s 10ms/step - loss: 0.0655 - accuracy: 0.9824\n",
            "Epoch 9/10\n",
            "2143/2143 [==============================] - 22s 10ms/step - loss: 0.0666 - accuracy: 0.9823\n",
            "Epoch 10/10\n",
            "2143/2143 [==============================] - 22s 10ms/step - loss: 0.0615 - accuracy: 0.9824\n"
          ],
          "name": "stdout"
        },
        {
          "output_type": "execute_result",
          "data": {
            "text/plain": [
              "<tensorflow.python.keras.callbacks.History at 0x7f67679f8668>"
            ]
          },
          "metadata": {
            "tags": []
          },
          "execution_count": 20
        }
      ]
    },
    {
      "cell_type": "code",
      "metadata": {
        "id": "VflXLEeECaXC",
        "colab": {
          "base_uri": "https://localhost:8080/"
        },
        "outputId": "d9cdcafd-d7ab-4c68-dfff-c754bc0d4f7f"
      },
      "source": [
        "x_test=x_test.reshape(10000,28,28,1)\n",
        "test_loss, test_acc = model.evaluate(x_test,  y_test, verbose=2)\n",
        "\n",
        "print('\\nTest accuracy:', test_acc)"
      ],
      "execution_count": null,
      "outputs": [
        {
          "output_type": "stream",
          "text": [
            "313/313 - 2s - loss: 0.0715 - accuracy: 0.9832\n",
            "\n",
            "Test accuracy: 0.9832000136375427\n"
          ],
          "name": "stdout"
        }
      ]
    }
  ]
}